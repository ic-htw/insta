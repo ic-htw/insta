{
 "cells": [
  {
   "cell_type": "code",
   "execution_count": null,
   "metadata": {},
   "outputs": [],
   "source": [
    "from pathlib import Path\n",
    "import pandas as pd\n",
    "from hana_ml import ConnectionContext\n",
    "from hana_ml.dataframe import create_dataframe_from_pandas\n",
    "import cred_hana as c"
   ]
  },
  {
   "cell_type": "code",
   "execution_count": null,
   "metadata": {},
   "outputs": [],
   "source": [
    "with ConnectionContext(c.hana_host, c.hana_port, c.hana_userid, c.hana_password) as cc:\n",
    "    sql = \"select * from ucla.tag\"\n",
    "    hdf = cc.sql(sql)\n",
    "    df = hdf.collect()\n",
    "df"
   ]
  },
  {
   "cell_type": "code",
   "execution_count": null,
   "metadata": {},
   "outputs": [],
   "source": [
    "csvdir = Path(\"c:/work/lv/uebungen/databases/insta/csv/\")\n",
    "csvdir.absolute()"
   ]
  },
  {
   "cell_type": "code",
   "execution_count": null,
   "metadata": {},
   "outputs": [],
   "source": [
    "df = pd.read_csv(csvdir/\"sample_submission.csv\")\n",
    "step = 50000\n",
    "i, j = 0, step\n",
    "while i < len(df):\n",
    "    dfx = df[[\"order_id\"]].iloc[i:j]\n",
    "    print(f\"{i:6}:{j:6}\")\n",
    "    with ConnectionContext(c.hana_host, c.hana_port, c.hana_userid, c.hana_password) as cc:\n",
    "        create_dataframe_from_pandas(cc, dfx, \"SUBMISSION\", schema=\"INSTA\", append=True)\n",
    "    i , j = j, j+step\n",
    "print(\"ok\")    "
   ]
  },
  {
   "cell_type": "code",
   "execution_count": null,
   "metadata": {},
   "outputs": [],
   "source": [
    "df = pd.read_csv(csvdir/\"orders.csv\")\n",
    "step = 50000\n",
    "i, j = 0, step\n",
    "while i < len(df):\n",
    "    dfx = df.iloc[i:j]\n",
    "    print(f\"{i:6}:{j:6}\")\n",
    "    with ConnectionContext(c.hana_host, c.hana_port, c.hana_userid, c.hana_password) as cc:\n",
    "        create_dataframe_from_pandas(cc, dfx, \"ORDERS\", schema=\"INSTA\", append=True)\n",
    "    i , j = j, j+step\n",
    "print(\"ok\")    "
   ]
  },
  {
   "cell_type": "code",
   "execution_count": null,
   "metadata": {},
   "outputs": [],
   "source": [
    "df = pd.read_csv(csvdir/\"order_products__prior.csv\")\n",
    "step = 50000\n",
    "i, j = 0, step\n",
    "while i < len(df):\n",
    "    dfx = df.iloc[i:j]\n",
    "    print(f\"{i:6}:{j:6}\")\n",
    "    with ConnectionContext(c.hana_host, c.hana_port, c.hana_userid, c.hana_password) as cc:\n",
    "        create_dataframe_from_pandas(cc, dfx, \"ORDER_PRODUCTS__PRIOR\", schema=\"INSTA\", append=True)\n",
    "    i , j = j, j+step\n",
    "print(\"ok\")    "
   ]
  }
 ],
 "metadata": {
  "kernelspec": {
   "display_name": "base",
   "language": "python",
   "name": "python3"
  },
  "language_info": {
   "codemirror_mode": {
    "name": "ipython",
    "version": 3
   },
   "file_extension": ".py",
   "mimetype": "text/x-python",
   "name": "python",
   "nbconvert_exporter": "python",
   "pygments_lexer": "ipython3",
   "version": "3.10.9"
  },
  "orig_nbformat": 4
 },
 "nbformat": 4,
 "nbformat_minor": 2
}
