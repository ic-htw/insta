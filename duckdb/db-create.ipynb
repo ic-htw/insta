{
 "cells": [
  {
   "cell_type": "code",
   "execution_count": 1,
   "id": "ae115828",
   "metadata": {},
   "outputs": [],
   "source": [
    "import duckdb\n",
    "con = duckdb.connect(database='insta.duckdb', read_only=False)"
   ]
  },
  {
   "cell_type": "code",
   "execution_count": 2,
   "id": "5db935e3",
   "metadata": {},
   "outputs": [
    {
     "data": {
      "text/plain": [
       "PosixPath('../../csv/insta')"
      ]
     },
     "execution_count": 2,
     "metadata": {},
     "output_type": "execute_result"
    }
   ],
   "source": [
    "from pathlib import Path\n",
    "data_dir = Path(\"../../csv/insta\")\n",
    "data_dir"
   ]
  },
  {
   "cell_type": "code",
   "execution_count": 3,
   "id": "b2053476",
   "metadata": {},
   "outputs": [],
   "source": [
    "sql = \"\"\"\n",
    "drop table submission;\n",
    "drop table order_products__prior;\n",
    "drop table orders;\n",
    "\"\"\"\n",
    "# con.execute(sql)"
   ]
  },
  {
   "cell_type": "code",
   "execution_count": 4,
   "id": "01af0e62",
   "metadata": {},
   "outputs": [
    {
     "data": {
      "text/plain": [
       "<duckdb.DuckDBPyConnection at 0x7f5217b042b0>"
      ]
     },
     "execution_count": 4,
     "metadata": {},
     "output_type": "execute_result"
    }
   ],
   "source": [
    "# -------------------------------------------------\n",
    "# submission\n",
    "# -------------------------------------------------\n",
    "sql = \"\"\"\n",
    "create  table submission (\n",
    "  order_id integer not null primary key,\n",
    "  dummy varchar(50)\n",
    ");\n",
    "\"\"\"\n",
    "con.execute(sql)\n",
    "\n",
    "data_file = data_dir / \"sample_submission.csv\"\n",
    "sql = f\"\"\"\n",
    "insert into submission\n",
    "  select * from read_csv_auto('{data_file}');\n",
    "\"\"\"\n",
    "con.execute(sql)\n",
    "\n"
   ]
  },
  {
   "cell_type": "code",
   "execution_count": 5,
   "id": "25e838b8",
   "metadata": {},
   "outputs": [
    {
     "data": {
      "application/vnd.jupyter.widget-view+json": {
       "model_id": "914412e43f9b48a4a55d847671b2e9bf",
       "version_major": 2,
       "version_minor": 0
      },
      "text/plain": [
       "FloatProgress(value=0.0, layout=Layout(width='auto'), style=ProgressStyle(bar_color='black'))"
      ]
     },
     "metadata": {},
     "output_type": "display_data"
    },
    {
     "data": {
      "text/plain": [
       "<duckdb.DuckDBPyConnection at 0x7f5217b042b0>"
      ]
     },
     "execution_count": 5,
     "metadata": {},
     "output_type": "execute_result"
    }
   ],
   "source": [
    "# -------------------------------------------------\n",
    "# orders\n",
    "# -------------------------------------------------\n",
    "sql = \"\"\"\n",
    "create  table orders (\n",
    "  order_id integer not null primary key,\n",
    "  user_id varchar(100) not null,\n",
    "  eval_set varchar(5) not null,\n",
    "  order_number integer not null,\n",
    "  order_dow integer not null,\n",
    "  order_hour_of_day integer not null,\n",
    "  days_since_prior_order float\n",
    ");\n",
    "\"\"\"\n",
    "con.execute(sql)\n",
    "\n",
    "data_file = data_dir / \"orders.csv\"\n",
    "sql = f\"\"\"\n",
    "insert into orders\n",
    "  select * from read_csv_auto('{data_file}');\n",
    "\"\"\"\n",
    "con.execute(sql)"
   ]
  },
  {
   "cell_type": "code",
   "execution_count": 6,
   "id": "9aa0fab6",
   "metadata": {},
   "outputs": [
    {
     "data": {
      "application/vnd.jupyter.widget-view+json": {
       "model_id": "0fca475db89248e99e7b0d6cab321f2d",
       "version_major": 2,
       "version_minor": 0
      },
      "text/plain": [
       "FloatProgress(value=0.0, layout=Layout(width='auto'), style=ProgressStyle(bar_color='black'))"
      ]
     },
     "metadata": {},
     "output_type": "display_data"
    },
    {
     "data": {
      "text/plain": [
       "<duckdb.DuckDBPyConnection at 0x7f5217b042b0>"
      ]
     },
     "execution_count": 6,
     "metadata": {},
     "output_type": "execute_result"
    }
   ],
   "source": [
    "# -------------------------------------------------\n",
    "# order_products__prior\n",
    "# -------------------------------------------------\n",
    "sql = \"\"\"\n",
    "create  table order_products__prior (\n",
    "  order_id integer not null,\n",
    "  product_id integer not null,\n",
    "  add_to_cart_order integer not null,\n",
    "  reordered integer not null\n",
    ");\n",
    "\"\"\"\n",
    "con.execute(sql)\n",
    "\n",
    "data_file = data_dir / \"order_products__prior.csv\"\n",
    "sql = f\"\"\"\n",
    "insert into order_products__prior\n",
    "  select * from read_csv_auto('{data_file}');\n",
    "\"\"\"\n",
    "con.execute(sql)\n"
   ]
  },
  {
   "cell_type": "code",
   "execution_count": 7,
   "id": "20d28748",
   "metadata": {},
   "outputs": [],
   "source": [
    "con.close()"
   ]
  }
 ],
 "metadata": {
  "kernelspec": {
   "display_name": "Python 3 (ipykernel)",
   "language": "python",
   "name": "python3"
  },
  "language_info": {
   "codemirror_mode": {
    "name": "ipython",
    "version": 3
   },
   "file_extension": ".py",
   "mimetype": "text/x-python",
   "name": "python",
   "nbconvert_exporter": "python",
   "pygments_lexer": "ipython3",
   "version": "3.11.4"
  }
 },
 "nbformat": 4,
 "nbformat_minor": 5
}
