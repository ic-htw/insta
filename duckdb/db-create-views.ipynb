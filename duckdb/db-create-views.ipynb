{
 "cells": [
  {
   "cell_type": "code",
   "execution_count": 1,
   "id": "ae115828",
   "metadata": {},
   "outputs": [],
   "source": [
    "import duckdb\n",
    "con = duckdb.connect(database='insta.duckdb', read_only=False)"
   ]
  },
  {
   "cell_type": "code",
   "execution_count": 4,
   "id": "01af0e62",
   "metadata": {},
   "outputs": [
    {
     "data": {
      "text/plain": [
       "<duckdb.DuckDBPyConnection at 0x7f5217b042b0>"
      ]
     },
     "execution_count": 4,
     "metadata": {},
     "output_type": "execute_result"
    }
   ],
   "source": [
    "sql = \"\"\"\n",
    "--drop view vsubmission;\n",
    "--drop view testorders_products;\n",
    "--drop view user_products;\n",
    "--drop view prior_orders_3_of_test_users;\n",
    "--drop view prior_orders_of_test_users;\n",
    "\"\"\"\n",
    "# con.execute(sql)"
   ]
  },
  {
   "cell_type": "code",
   "execution_count": 2,
   "id": "3d421bf0",
   "metadata": {},
   "outputs": [
    {
     "data": {
      "text/plain": [
       "<duckdb.DuckDBPyConnection at 0x7fac50151670>"
      ]
     },
     "execution_count": 2,
     "metadata": {},
     "output_type": "execute_result"
    }
   ],
   "source": [
    "# -------------------------------------------------\n",
    "# prior_orders_of_test_users\n",
    "# -------------------------------------------------\n",
    "sql = \"\"\"\n",
    "create view prior_orders_of_test_users as\n",
    "select prior_orders.user_id, order_number, order_id\n",
    "from\n",
    "   (select user_id, order_number, order_id\n",
    "   from orders\n",
    "   where eval_set = 'prior') prior_orders\n",
    " inner join\n",
    "  (select distinct user_id from orders where eval_set = 'test') test_user_ids\n",
    " on prior_orders.user_id = test_user_ids.user_id;\n",
    "\"\"\"\n",
    "con.execute(sql)"
   ]
  },
  {
   "cell_type": "code",
   "execution_count": 3,
   "id": "a79c679a",
   "metadata": {},
   "outputs": [
    {
     "data": {
      "text/plain": [
       "<duckdb.DuckDBPyConnection at 0x7fac50151670>"
      ]
     },
     "execution_count": 3,
     "metadata": {},
     "output_type": "execute_result"
    }
   ],
   "source": [
    "# -------------------------------------------------\n",
    "# prior_orders_3_of_test_users\n",
    "# -------------------------------------------------\n",
    "sql = \"\"\"\n",
    "create view prior_orders_3_of_test_users as\n",
    "select order_id, user_id, order_number\n",
    "from\n",
    "  (select order_id, user_id, order_number, rank() over (partition by user_id order by order_number desc) as rank\n",
    "  from prior_orders_of_test_users) x\n",
    "where rank <= 3;\n",
    "\"\"\"\n",
    "con.execute(sql)"
   ]
  },
  {
   "cell_type": "code",
   "execution_count": 4,
   "id": "32d41ca0",
   "metadata": {},
   "outputs": [
    {
     "data": {
      "text/plain": [
       "<duckdb.DuckDBPyConnection at 0x7fac50151670>"
      ]
     },
     "execution_count": 4,
     "metadata": {},
     "output_type": "execute_result"
    }
   ],
   "source": [
    "# -------------------------------------------------\n",
    "# user_products\n",
    "# -------------------------------------------------\n",
    "sql = \"\"\"\n",
    "create view user_products as\n",
    "select user_id, product_id\n",
    "from prior_orders_3_of_test_users o3\n",
    "     inner join order_products__prior opp on o3.order_id = opp.order_id\n",
    "group by user_id, product_id\n",
    "having avg(reordered) >= 0.5;\n",
    "\"\"\"\n",
    "con.execute(sql)"
   ]
  },
  {
   "cell_type": "code",
   "execution_count": 5,
   "id": "feb851af",
   "metadata": {},
   "outputs": [
    {
     "data": {
      "text/plain": [
       "<duckdb.DuckDBPyConnection at 0x7fac50151670>"
      ]
     },
     "execution_count": 5,
     "metadata": {},
     "output_type": "execute_result"
    }
   ],
   "source": [
    "# -------------------------------------------------\n",
    "# testorders_products\n",
    "# -------------------------------------------------\n",
    "sql = \"\"\"\n",
    "create view testorders_products as\n",
    "select order_id, product_id\n",
    "from orders o inner join user_products up on o.user_id = up.user_id\n",
    "where eval_set='test';\n",
    "\"\"\"\n",
    "con.execute(sql)"
   ]
  },
  {
   "cell_type": "code",
   "execution_count": 6,
   "id": "2b8f1c72",
   "metadata": {},
   "outputs": [
    {
     "data": {
      "text/plain": [
       "<duckdb.DuckDBPyConnection at 0x7fac50151670>"
      ]
     },
     "execution_count": 6,
     "metadata": {},
     "output_type": "execute_result"
    }
   ],
   "source": [
    "# -------------------------------------------------\n",
    "# vsubmission\n",
    "# -------------------------------------------------\n",
    "sql = \"\"\"\n",
    "create view vsubmission as\n",
    "select s.order_id, string_agg(product_id::text, ' ') as products\n",
    "from submission s \n",
    "     left join testorders_products tp on s.order_id=tp.order_id\n",
    "group by s.order_id;\n",
    "\"\"\"\n",
    "con.execute(sql)"
   ]
  },
  {
   "cell_type": "code",
   "execution_count": 7,
   "id": "20d28748",
   "metadata": {},
   "outputs": [],
   "source": [
    "con.close()"
   ]
  }
 ],
 "metadata": {
  "kernelspec": {
   "display_name": "Python 3 (ipykernel)",
   "language": "python",
   "name": "python3"
  },
  "language_info": {
   "codemirror_mode": {
    "name": "ipython",
    "version": 3
   },
   "file_extension": ".py",
   "mimetype": "text/x-python",
   "name": "python",
   "nbconvert_exporter": "python",
   "pygments_lexer": "ipython3",
   "version": "3.11.4"
  }
 },
 "nbformat": 4,
 "nbformat_minor": 5
}
